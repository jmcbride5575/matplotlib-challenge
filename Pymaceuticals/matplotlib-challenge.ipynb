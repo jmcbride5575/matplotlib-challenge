#!/usr/bin/env python
# coding: utf-8

# In[57]:


# Dependencies and Setup
get_ipython().run_line_magic('matplotlib', 'inline')
import matplotlib.pyplot as plt
import pandas as pd
import numpy as np

# Hide warning messages in notebook
import warnings
warnings.filterwarnings('ignore')

# File to Load (Remember to Change These)
mouse_drug_df = pd.read_csv(r"C:\Users\jmcbr\Desktop\mouse_drug_data.csv")
clinical_trial_df = pd.read_csv(r"C:\Users\jmcbr\Desktop\clinicaltrial_data.csv")

# Read the Mouse and Drug Data and the Clinical Trial Data


# Combine the data into a single dataset
mouse_drug_trial_df = pd.merge(mouse_drug_df,clinical_trial_df,how="outer",on= "Mouse ID")

# Display the data table for preview

mouse_drug_trial_df.head()


# ## Tumor Response to Treatment

# In[59]:


# Store the Mean Tumor Volume Data Grouped by Drug and Timepoint 
tumor_mean = mouse_drug_trial_df.groupby(["Drug","Timepoint"]).mean()
tumor_mean.reset_index(level = None, inplace = True)

# Convert to DataFrame

tumor_treatement_mean_df = pd.DataFrame(tumor_mean)

# Preview DataFrame

tumor_treatement_mean_df.head()


# In[2]:





# In[60]:


# Store the Standard Error of Tumor Volumes Grouped by Drug and Timepoint

tumor_sem = mouse_drug_trial_df.groupby(["Drug","Timepoint"]).sem()

# Convert to DataFrame

tumor_sem_df = pd.DataFrame(tumor_sem)

# Preview DataFrame

tumor_sem_df.head()


# In[3]:





# In[61]:


# Minor Data Munging to Re-Format the Data Frames

Data_Munging = tumor_treatement_mean_df.pivot(index = "Timepoint", columns = "Drug", values = "Tumor Volume (mm3)")
Data_Munging.reset_index(level = None, inplace = True)

# Preview that Reformatting worked
Data_Munging.head()


# In[4]:





# In[70]:


# Generate the Plot (with Error Bars)

plt.errorbar(x=Data_Munging["Timepoint"],y=Data_Munging["Capomulin"], yerr=None, linestyle'"--", fmt="o")
plt.errorbar(x=Data_Munging["Timepoint"],y=Data_Munging["Ceftamin"], yerr=None, linestyle'"--", fmt="o")
plt.errorbar(x=Data_Munging["Timepoint"],y=Data_Munging["Infubinol"], yerr=None, linestyle'"--", fmt="o")
plt.errorbar(x=Data_Munging["Timepoint"],y=Data_Munging["Capomulin"], yerr=None, linestyle'"--", fmt="o")
# Save the Figure


# In[ ]:


# Show the Figure
plt.show()


# ![Tumor Response to Treatment](../Images/treatment.png)

# ## Metastatic Response to Treatment

# In[ ]:


# Store the Mean Met. Site Data Grouped by Drug and Timepoint 

# Convert to DataFrame

# Preview DataFrame


# In[6]:





# In[ ]:


# Store the Standard Error associated with Met. Sites Grouped by Drug and Timepoint 

# Convert to DataFrame

# Preview DataFrame


# In[7]:





# In[ ]:


# Minor Data Munging to Re-Format the Data Frames

# Preview that Reformatting worked


# In[8]:





# In[ ]:


# Generate the Plot (with Error Bars)

# Save the Figure

# Show the Figure


# ![Metastatic Spread During Treatment](../Images/spread.png)

# ## Survival Rates

# In[ ]:


# Store the Count of Mice Grouped by Drug and Timepoint (W can pass any metric)

# Convert to DataFrame

# Preview DataFrame


# In[10]:





# In[ ]:


# Minor Data Munging to Re-Format the Data Frames

# Preview the Data Frame


# In[11]:





# In[ ]:


# Generate the Plot (Accounting for percentages)

# Save the Figure

# Show the Figure
plt.show()


# ![Metastatic Spread During Treatment](../Images/survival.png)

# ## Summary Bar Graph

# In[ ]:


# Calculate the percent changes for each drug

# Display the data to confirm


# In[13]:





# In[ ]:


# Store all Relevant Percent Changes into a Tuple


# Splice the data between passing and failing drugs


# Orient widths. Add labels, tick marks, etc. 


# Use functions to label the percentages of changes


# Call functions to implement the function calls


# Save the Figure


# Show the Figure
fig.show()


# ![Metastatic Spread During Treatment](../Images/change.png)

# In[ ]:




